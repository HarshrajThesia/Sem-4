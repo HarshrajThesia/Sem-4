{
 "cells": [
  {
   "cell_type": "markdown",
   "metadata": {},
   "source": [
    "# <a href='https://www.darshan.ac.in/'> <img src='https://www.darshan.ac.in/Content/media/DU_Logo.svg' width=\"250\" height=\"300\"/></a>\n",
    "<pre>\n",
    "<center><b><h1>Python Programming - 2301CS404</b></center>\n",
    "<center><b><h1>Lab - 4</b></center>\n",
    "<center><b><h1>Harshraj Thesia</b></center> \n",
    "<center><b><h1>23010101270</b></center> \n",
    "<center><b><h1>CSE-4A-154</b></center> \n",
    "<pre>"
   ]
  },
  {
   "cell_type": "markdown",
   "metadata": {},
   "source": [
    "# String"
   ]
  },
  {
   "cell_type": "markdown",
   "metadata": {},
   "source": [
    "### 01) WAP to check whether the given string is palindrome or not."
   ]
  },
  {
   "cell_type": "code",
   "execution_count": 2,
   "metadata": {},
   "outputs": [
    {
     "name": "stdout",
     "output_type": "stream",
     "text": [
      "Enter a stringabc\n",
      "Not Palindrome\n"
     ]
    }
   ],
   "source": [
    "n = (input(\"Enter a string\"));\n",
    "rev = n[::-1];\n",
    "\n",
    "if(n == rev):\n",
    "    print(\"Palindrome\");\n",
    "else:\n",
    "    print(\"Not Palindrome\");"
   ]
  },
  {
   "cell_type": "markdown",
   "metadata": {},
   "source": [
    "### 02) WAP to reverse the words in the given string."
   ]
  },
  {
   "cell_type": "code",
   "execution_count": 5,
   "metadata": {},
   "outputs": [
    {
     "name": "stdout",
     "output_type": "stream",
     "text": [
      "Enter a string: Dev\n",
      "Reverse :  veD\n"
     ]
    }
   ],
   "source": [
    "str = input(\"Enter a string: \");\n",
    "rev = str[::-1]\n",
    "print(\"Reverse : \",rev);"
   ]
  },
  {
   "cell_type": "markdown",
   "metadata": {},
   "source": [
    "### 03) WAP to remove ith character from given string."
   ]
  },
  {
   "cell_type": "code",
   "execution_count": 8,
   "metadata": {},
   "outputs": [
    {
     "name": "stdout",
     "output_type": "stream",
     "text": [
      "Enter String:Yohoo bubam bubam\n",
      "Enter Number That You Want To Remove:1\n",
      "Yhoo bubam bubam\n"
     ]
    }
   ],
   "source": [
    "str = input(\"Enter String: \")\n",
    "i = int(input(\"Enter Number That You Want To Remove:\"))\n",
    "ans = str[0:i:] + str[i+1::]\n",
    "print(ans)"
   ]
  },
  {
   "cell_type": "markdown",
   "metadata": {},
   "source": [
    "### 04) WAP to find length of string without using len function."
   ]
  },
  {
   "cell_type": "code",
   "execution_count": 7,
   "metadata": {},
   "outputs": [
    {
     "name": "stdout",
     "output_type": "stream",
     "text": [
      "Enter a String: abcdefghijklmonpqrstuvwxyz\n",
      "26\n"
     ]
    }
   ],
   "source": [
    "str = input(\"Enter a String: \");\n",
    "count = 0;\n",
    "for word in str:\n",
    "    count += 1;\n",
    "print(count);"
   ]
  },
  {
   "cell_type": "markdown",
   "metadata": {},
   "source": [
    "### 05) WAP to print even length word in string."
   ]
  },
  {
   "cell_type": "code",
   "execution_count": 9,
   "metadata": {},
   "outputs": [
    {
     "name": "stdout",
     "output_type": "stream",
     "text": [
      "Enter a String: My name is Anthony\n",
      "My\n",
      "name\n",
      "is\n"
     ]
    }
   ],
   "source": [
    "str = input(\"Enter a String: \");\n",
    "word = str.split(' ');\n",
    "\n",
    "for s in word:\n",
    "    if(len(s) % 2 == 0):\n",
    "        print(s);  "
   ]
  },
  {
   "cell_type": "markdown",
   "metadata": {},
   "source": [
    "### 06) WAP to count numbers of vowels in given string."
   ]
  },
  {
   "cell_type": "code",
   "execution_count": 5,
   "metadata": {},
   "outputs": [
    {
     "name": "stdout",
     "output_type": "stream",
     "text": [
      "Enter Stringaeiou\n",
      "Numbers of Vowels :  5\n"
     ]
    }
   ],
   "source": [
    "s=input(\"Enter String: \")\n",
    "vowels='aeiou'\n",
    "count=0;\n",
    "for i in s:\n",
    "     if i in vowels:\n",
    "         count+=1;\n",
    "print(\"Numbers of Vowels : \",count)"
   ]
  },
  {
   "cell_type": "markdown",
   "metadata": {},
   "source": [
    "### 07) WAP to capitalize the first and last character of each word in a string."
   ]
  },
  {
   "cell_type": "code",
   "execution_count": 7,
   "metadata": {},
   "outputs": [
    {
     "name": "stdout",
     "output_type": "stream",
     "text": [
      "Enter String: Narth Pasediya\n",
      "NartH PasediyA\n"
     ]
    }
   ],
   "source": [
    "s=input(\"Enter String: \")\n",
    "s=s.split()\n",
    "result=[]\n",
    "# print(s)\n",
    "for word in s:\n",
    "    if len(word)>1:\n",
    "         words=word[0].upper()+word[1:-1]+word[-1].upper()\n",
    "    else:\n",
    "         words=word.upper()\n",
    "    result.append(words)\n",
    "print(' '.join(result))"
   ]
  },
  {
   "cell_type": "markdown",
   "metadata": {},
   "source": [
    "### 08) WAP to convert given array to string."
   ]
  },
  {
   "cell_type": "code",
   "execution_count": 8,
   "metadata": {},
   "outputs": [
    {
     "name": "stdout",
     "output_type": "stream",
     "text": [
      "String : Darshan\n"
     ]
    },
    {
     "data": {
      "text/plain": [
       "str"
      ]
     },
     "execution_count": 8,
     "metadata": {},
     "output_type": "execute_result"
    }
   ],
   "source": [
    "arr=['D','a','r','s','h','a','n']\n",
    "s=''.join(arr)\n",
    "print('String :',s)\n",
    "type(s)"
   ]
  },
  {
   "cell_type": "markdown",
   "metadata": {},
   "source": [
    "### 09) Check if the password and confirm password is same or not. \n",
    "### In case of only case's mistake, show the error message."
   ]
  },
  {
   "cell_type": "code",
   "execution_count": 10,
   "metadata": {},
   "outputs": [
    {
     "name": "stdout",
     "output_type": "stream",
     "text": [
      "Enter the Passwordabc@123\n",
      "Enter the Confirm PasswordAbc@123\n",
      "Password don't match due to case difference\n"
     ]
    }
   ],
   "source": [
    "password=input(\"Enter the Password\")\n",
    "confirm_Password=input(\"Enter the Confirm Password\")\n",
    "if password == confirm_Password:\n",
    "     print(\"Passwords Match\")\n",
    "elif password.lower()==confirm_Password.lower():\n",
    "     print(\"Password don't match due to case difference\")\n",
    "else:\n",
    "     print(\"Password don't match\")"
   ]
  },
  {
   "cell_type": "markdown",
   "metadata": {},
   "source": [
    "### 10) : Display credit card number. \n",
    "### card no. : 1234 5678 9012 3456\n",
    "### display as  : **** **** **** 3456"
   ]
  },
  {
   "cell_type": "code",
   "execution_count": 11,
   "metadata": {},
   "outputs": [
    {
     "name": "stdout",
     "output_type": "stream",
     "text": [
      "Enter credit card number(16 digits): 1230546158924567\n",
      "**** **** **** 4567\n"
     ]
    }
   ],
   "source": [
    "card_no=input(\"Enter credit card number(16 digits): \")\n",
    "if len(card_no.replace(' ',''))==16:\n",
    "     last_four=card_no[-4:]\n",
    "     hidden_part = \"**** **** **** \"\n",
    "     print(hidden_part+last_four)\n",
    "else:\n",
    "     print(\"Invalid Credit Card Number,Please enter 16 digits.\")"
   ]
  },
  {
   "cell_type": "markdown",
   "metadata": {},
   "source": [
    "### 11) : Checking if the two strings are Anagram or not.\n",
    "### s1 = decimal and s2 = medical are Anagram"
   ]
  },
  {
   "cell_type": "code",
   "execution_count": 64,
   "metadata": {},
   "outputs": [
    {
     "name": "stdout",
     "output_type": "stream",
     "text": [
      "Enter String-1: dad\n",
      "Enter String-2: ad\n",
      "The strings are anagram\n"
     ]
    }
   ],
   "source": [
    "s1=input('Enter String-1: ')\n",
    "s2=input('Enter String-2: ')\n",
    "isAnagram=True\n",
    "if len(s1) == len(s2):\n",
    "     for i in s1:\n",
    "        if i not in s2:\n",
    "                isAnagram = False\n",
    "                print('The strings are not anagram.');\n",
    "if isAnagram:\n",
    "    print('The strings are anagram');\n",
    "\n",
    "else:\n",
    "    print('The strings are not anagram');"
   ]
  },
  {
   "cell_type": "markdown",
   "metadata": {},
   "source": [
    "### 12) : Rearrange the given string. First lowercase then uppercase alphabets.\n",
    "### input : EHlsarwiwhtwMV\n",
    "### output : lsarwiwhtwEHMV"
   ]
  },
  {
   "cell_type": "code",
   "execution_count": 68,
   "metadata": {},
   "outputs": [
    {
     "name": "stdout",
     "output_type": "stream",
     "text": [
      "lsarwiwhtwEHMV\n"
     ]
    }
   ],
   "source": [
    "s='EHlsarwiwhtwMV'\n",
    "lower=''\n",
    "upper=''\n",
    "for i in s:\n",
    "    if i.islower():\n",
    "        lower+=i\n",
    "    elif i.isupper():\n",
    "        upper+=i\n",
    "output=lower+upper\n",
    "print(output)"
   ]
  }
 ],
 "metadata": {
  "kernelspec": {
   "display_name": "Python 3 (ipykernel)",
   "language": "python",
   "name": "python3"
  },
  "language_info": {
   "codemirror_mode": {
    "name": "ipython",
    "version": 3
   },
   "file_extension": ".py",
   "mimetype": "text/x-python",
   "name": "python",
   "nbconvert_exporter": "python",
   "pygments_lexer": "ipython3",
   "version": "3.10.9"
  },
  "vscode": {
   "interpreter": {
    "hash": "31f2aee4e71d21fbe5cf8b01ff0e069b9275f58929596ceb00d14d90e3e16cd6"
   }
  }
 },
 "nbformat": 4,
 "nbformat_minor": 4
}
