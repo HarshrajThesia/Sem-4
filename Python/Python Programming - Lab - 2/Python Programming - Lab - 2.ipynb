{
 "cells": [
  {
   "cell_type": "markdown",
   "metadata": {},
   "source": [
    "# <a href='https://www.darshan.ac.in/'> <img src='https://www.darshan.ac.in/Content/media/DU_Logo.svg' width=\"250\" height=\"300\"/></a>\n",
    "<pre>\n",
    "            <center><b><h1>Python Programming - 2301CS404</b></center>\n",
    "            <center><b><h1>Hearshraj Thesia</b></center>\n",
    "            <center><b><h1>23010101270</b></center>\n",
    "            <center><b><h1>154</b></center>\n",
    "            <center><b><h1>Lab - 2</b></center>    \n",
    "<pre>"
   ]
  },
  {
   "cell_type": "markdown",
   "metadata": {},
   "source": [
    "# if..else.."
   ]
  },
  {
   "cell_type": "markdown",
   "metadata": {},
   "source": [
    "### 01) WAP to check whether the given number is positive or negative."
   ]
  },
  {
   "cell_type": "code",
   "execution_count": 1,
   "metadata": {},
   "outputs": [
    {
     "name": "stdin",
     "output_type": "stream",
     "text": [
      "Enter a number to check positive or negative: 5\n"
     ]
    },
    {
     "name": "stdout",
     "output_type": "stream",
     "text": [
      "positive\n"
     ]
    }
   ],
   "source": [
    "a=int(input(\"Enter a number to check positive or negative:\"))\n",
    "if a>0:\n",
    "    print(\"positive\")\n",
    "else:\n",
    "    print(\"Negative\")"
   ]
  },
  {
   "cell_type": "markdown",
   "metadata": {},
   "source": [
    "### 02) WAP to check whether the given number is odd or even."
   ]
  },
  {
   "cell_type": "code",
   "execution_count": 2,
   "metadata": {},
   "outputs": [
    {
     "name": "stdin",
     "output_type": "stream",
     "text": [
      "Enter a number to check number is odd or even: 5\n"
     ]
    },
    {
     "name": "stdout",
     "output_type": "stream",
     "text": [
      "Number is odd\n"
     ]
    }
   ],
   "source": [
    "n=int(input(\"Enter a number to check number is odd or even:\"))\n",
    "if n%2==0:\n",
    "    print(\"Number is even\")\n",
    "else:\n",
    "    print(\"Number is odd\")"
   ]
  },
  {
   "cell_type": "markdown",
   "metadata": {},
   "source": [
    "### 03) WAP to find out largest number from given two numbers using simple if and ternary operator."
   ]
  },
  {
   "cell_type": "code",
   "execution_count": 7,
   "metadata": {},
   "outputs": [
    {
     "name": "stdin",
     "output_type": "stream",
     "text": [
      "Enter number 1: 5\n",
      "Enter number 2: 10\n"
     ]
    },
    {
     "name": "stdout",
     "output_type": "stream",
     "text": [
      "B is largest\n",
      "B is Largest\n"
     ]
    }
   ],
   "source": [
    "#Using IF\n",
    "\n",
    "a=int(input(\"Enter number 1:\"))\n",
    "b=int(input(\"Enter number 2:\"))\n",
    "\n",
    "if a>b:\n",
    "    print(\"A is largest\")\n",
    "else:\n",
    "    print(\"B is largest\")\n",
    "\n",
    "#Using Ternary operator\n",
    "print(\"A is Largest\" if a>b else \"B is Largest\")"
   ]
  },
  {
   "cell_type": "markdown",
   "metadata": {},
   "source": [
    "### 04) WAP to find out largest number from given three numbers."
   ]
  },
  {
   "cell_type": "code",
   "execution_count": 10,
   "metadata": {},
   "outputs": [
    {
     "name": "stdin",
     "output_type": "stream",
     "text": [
      "Enter Number 1: 5\n",
      "Enter Number 2: 10\n",
      "Enter Number 3: 15\n"
     ]
    },
    {
     "name": "stdout",
     "output_type": "stream",
     "text": [
      "15\n"
     ]
    }
   ],
   "source": [
    "a=int(input(\"Enter Number 1:\"))\n",
    "b=int(input(\"Enter Number 2:\"))\n",
    "c=int(input(\"Enter Number 3:\"))\n",
    "\n",
    "if (a>b) and (a>c):\n",
    "    largest=a\n",
    "elif (b>a) and (b>c):\n",
    "    largest=b\n",
    "else:\n",
    "    largest=c\n",
    "    print(largest)\n",
    "        "
   ]
  },
  {
   "cell_type": "markdown",
   "metadata": {},
   "source": [
    "### 05) WAP to check whether the given year is leap year or not.\n",
    "[If a year can be divisible by 4 but not divisible by 100 then it is leap year but if it is divisible by 400 then it is leap year]"
   ]
  },
  {
   "cell_type": "code",
   "execution_count": 16,
   "metadata": {},
   "outputs": [
    {
     "name": "stdin",
     "output_type": "stream",
     "text": [
      "Enter a year: 2000\n"
     ]
    },
    {
     "name": "stdout",
     "output_type": "stream",
     "text": [
      "Year is LeapYear\n"
     ]
    }
   ],
   "source": [
    "a=int(input(\"Enter a year:\"))\n",
    "if (a%4==0) and (a%100!=0) or (a%400==0) :\n",
    "    print(\"Year is LeapYear\")\n",
    "else:\n",
    "    print(\"Year is Not Leap Year\")\n",
    "    \n",
    "\n",
    "\n"
   ]
  },
  {
   "cell_type": "markdown",
   "metadata": {},
   "source": [
    "### 06) WAP in python to display the name of the day according to the number given by the user."
   ]
  },
  {
   "cell_type": "code",
   "execution_count": 4,
   "metadata": {},
   "outputs": [
    {
     "name": "stdin",
     "output_type": "stream",
     "text": [
      "Enter a number: 4\n"
     ]
    },
    {
     "name": "stdout",
     "output_type": "stream",
     "text": [
      "thursday\n"
     ]
    }
   ],
   "source": [
    "a=int(input(\"Enter a number:\"))\n",
    "\n",
    "match a:\n",
    "    case 1:\n",
    "        print(\"Monday\")\n",
    "    case 2:\n",
    "        print(\"Tuesday\")\n",
    "    case 3:\n",
    "        print(\"Wednesday\")\n",
    "    case 4:\n",
    "        print(\"Thursday\")\n",
    "    case 5:\n",
    "        print(\"Friday\")\n",
    "    case 6:\n",
    "        print(\"Saturday\")\n",
    "    case 7:\n",
    "        print(\"Sunday\")\n",
    "    case _:\n",
    "        print(\"invalid input\")\n"
   ]
  },
  {
   "cell_type": "markdown",
   "metadata": {},
   "source": [
    "### 07) WAP to implement simple calculator which performs (add,sub,mul,div) of two no. based on user input."
   ]
  },
  {
   "cell_type": "code",
   "execution_count": 42,
   "metadata": {},
   "outputs": [
    {
     "name": "stdin",
     "output_type": "stream",
     "text": [
      "Enter number 1: 5\n",
      "Enter number 2: 0\n",
      "Enter 1:Add 2:subtraction 3:Multiplication 4:Division 4\n"
     ]
    },
    {
     "name": "stdout",
     "output_type": "stream",
     "text": [
      "0 can't be divided\n"
     ]
    }
   ],
   "source": [
    "a=int(input(\"Enter number 1:\"))\n",
    "b=int(input(\"Enter number 2:\"))\n",
    "choice=int(input(\"Enter 1:Add 2:subtraction 3:Multiplication 4:Division\"))\n",
    "if choice==1:\n",
    "    add=a+b\n",
    "    print(\"Answer of addition:\",add)\n",
    "elif choice==2:\n",
    "    sub=a-b\n",
    "    print(\"Answer of subtraction:\",sub)\n",
    "elif choice==3:\n",
    "    mul=a*b\n",
    "    print(\"Answer of multiplictaion:\",mul)\n",
    "elif choice==4:\n",
    "    \n",
    "    if b!=0:\n",
    "        #we can use // for get answer in integer instend of floating value\n",
    "        div=a//b\n",
    "        print(\"Answer of division:\",div)\n",
    "    else:\n",
    "        print(\"Division by zero is not allowed\")\n",
    "else:\n",
    "    print(\"Invalid choice\")\n",
    "    "
   ]
  },
  {
   "cell_type": "markdown",
   "metadata": {},
   "source": [
    "### 08) WAP to read marks of five subjects. Calculate percentage and print class accordingly. \n",
    "Fail below 35 </br>\n",
    "Pass Class between 35 to 45 </br>\n",
    "Second Class</br>\n",
    "between 45 to 60</br>\n",
    "First Class between 60 to 70</br> \n",
    "Distinction if more than 70"
   ]
  },
  {
   "cell_type": "code",
   "execution_count": 2,
   "metadata": {},
   "outputs": [
    {
     "name": "stdin",
     "output_type": "stream",
     "text": [
      "Enter sub1 marks: 80\n",
      "Enter sub2 marks: 75\n",
      "Enter sub3 marks: 90\n",
      "Enter sub4 mark4: 95\n",
      "Enter sub5 marks: 60\n"
     ]
    },
    {
     "name": "stdout",
     "output_type": "stream",
     "text": [
      "distinction\n"
     ]
    }
   ],
   "source": [
    "sub1=int(input(\"Enter sub1 marks:\"))\n",
    "sub2=int(input(\"Enter sub2 marks:\"))\n",
    "sub3=int(input(\"Enter sub3 marks:\"))\n",
    "sub4=int(input(\"Enter sub4 mark4:\"))\n",
    "sub5=int(input(\"Enter sub5 marks:\"))\n",
    "\n",
    "avg = ((sub1+sub2+sub3+sub4+sub5)/500)*100\n",
    "\n",
    "if avg<35:\n",
    "    print(\"FAIL\")\n",
    "elif avg>35 and avg<45:\n",
    "    print(\"pass class\")\n",
    "elif avg>45 and avg<60:\n",
    "    print(\"second class\")\n",
    "elif avg>60 and avg<70:\n",
    "    print(\"first class\")\n",
    "else:\n",
    "    print(\"distinction\")\n"
   ]
  },
  {
   "cell_type": "markdown",
   "metadata": {},
   "source": [
    "### 09) Three sides of a triangle are entered through the keyboard, WAP to check whether the triangle is isosceles, equilateral, scalene or right-angled triangle."
   ]
  },
  {
   "cell_type": "code",
   "execution_count": 12,
   "metadata": {},
   "outputs": [
    {
     "name": "stdin",
     "output_type": "stream",
     "text": [
      "Enter side 1: 3\n",
      "Enter side 2: 4\n",
      "Enter side 3: 5\n"
     ]
    },
    {
     "name": "stdout",
     "output_type": "stream",
     "text": [
      "right angled\n"
     ]
    }
   ],
   "source": [
    "s1=int(input(\"Enter side 1:\"))\n",
    "s2=int(input(\"Enter side 2:\"))\n",
    "s3=int(input(\"Enter side 3:\"))\n",
    "\n",
    "if (s1 == s2 == s3):\n",
    "    print(\"Equilateral\")\n",
    "elif (s1 == s2 or s1 == s3 or s2 == s3):\n",
    "    print(\"Isoscles\")\n",
    "elif(s1**2 == s2**2 + s3**2 or s2**2 == s3**2 + s1**2 or s3**2 == s2**2 + s1**2):\n",
    "    print(\"Right angled\")\n",
    "else:\n",
    "    print(\"Scalene\")"
   ]
  },
  {
   "cell_type": "markdown",
   "metadata": {},
   "source": [
    "### 10) WAP to find the second largest number among three user input numbers."
   ]
  },
  {
   "cell_type": "code",
   "execution_count": 7,
   "metadata": {},
   "outputs": [
    {
     "name": "stdin",
     "output_type": "stream",
     "text": [
      "Enter Number 1: 10\n",
      "Enter Number 2: 15\n",
      "Enter Number 3: 20\n"
     ]
    },
    {
     "name": "stdout",
     "output_type": "stream",
     "text": [
      "15\n"
     ]
    }
   ],
   "source": [
    "a=int(input(\"Enter Number 1:\"))\n",
    "b=int(input(\"Enter Number 2:\"))\n",
    "c=int(input(\"Enter Number 3:\"))\n",
    "\n",
    "if (a>b and a<c) or (a>c and a<b):\n",
    "    seclargest=a\n",
    "elif (b>a and b<c) or (b>c and b<a):\n",
    "    seclargest=b\n",
    "else:\n",
    "    seclargest=c\n",
    "    \n",
    "print(seclargest)"
   ]
  },
  {
   "cell_type": "markdown",
   "metadata": {},
   "source": [
    "### 11) WAP to calculate electricity bill based on following criteria. Which takes the unit from the user.\n",
    "a. First 1 to 50 units – Rs. 2.60/unit</br>\n",
    "b. Next 50 to 100 units – Rs. 3.25/unit</br>\n",
    "c. Next 100 to 200 units – Rs. 5.26/unit</br>\n",
    "d. above 200 units – Rs. 8.45/unit"
   ]
  },
  {
   "cell_type": "code",
   "execution_count": 4,
   "metadata": {},
   "outputs": [
    {
     "name": "stdin",
     "output_type": "stream",
     "text": [
      "Enter units: 50\n"
     ]
    },
    {
     "name": "stdout",
     "output_type": "stream",
     "text": [
      "130.0\n"
     ]
    }
   ],
   "source": [
    "unit=int(input(\"Enter units:\"))\n",
    "\n",
    "if unit>=1 and unit<=50:\n",
    "    print(unit*2.60)\n",
    "elif unit>50 and unit<=100:\n",
    "    print(unit*3.25)\n",
    "elif unit>100 and unit<=200:\n",
    "    print(unit*5.26)\n",
    "elif unit>200:\n",
    "    print(unit*8.45)\n",
    "else:\n",
    "    print(\"ZERO\")\n",
    "\n"
   ]
  }
 ],
 "metadata": {
  "kernelspec": {
   "display_name": "Python 3 (ipykernel)",
   "language": "python",
   "name": "python3"
  },
  "language_info": {
   "codemirror_mode": {
    "name": "ipython",
    "version": 3
   },
   "file_extension": ".py",
   "mimetype": "text/x-python",
   "name": "python",
   "nbconvert_exporter": "python",
   "pygments_lexer": "ipython3",
   "version": "3.10.9"
  }
 },
 "nbformat": 4,
 "nbformat_minor": 4
}
