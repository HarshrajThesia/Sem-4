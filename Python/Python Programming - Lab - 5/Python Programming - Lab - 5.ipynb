{
 "cells": [
  {
   "cell_type": "markdown",
   "metadata": {},
   "source": [
    "\n",
    "<a href='https://www.darshan.ac.in/'> <img src='https://www.darshan.ac.in/Content/media/DU_Logo.svg' width=\"250\" height=\"300\"/></a>\n",
    "<pre>\n",
    "<center><b><h1>Python Programming - 2301CS404</b></center>\n",
    "<center><b><h1>Lab - 5</b></center>\n",
    "<center><b><h1>Hearshraj Thesia</b></center>\n",
    "<center><b><h1>CSE-A-154</b></center>\n",
    "<center><b><h1>23010101270</b></center>\n",
    "<center><b><h1>27-12-24</b></center>\n",
    "<pre>"
   ]
  },
  {
   "cell_type": "markdown",
   "metadata": {},
   "source": [
    "# List"
   ]
  },
  {
   "cell_type": "markdown",
   "metadata": {},
   "source": [
    "### 01) WAP to find sum of all the elements in a List."
   ]
  },
  {
   "cell_type": "code",
   "execution_count": 12,
   "metadata": {},
   "outputs": [
    {
     "name": "stdout",
     "output_type": "stream",
     "text": [
      "Enter space separated values for list : 10 50 60 40\n",
      "Sum = 160\n"
     ]
    }
   ],
   "source": [
    "n = input(\"Enter space separated values for list : \")\n",
    "li = [int(x) for x in n.split()]\n",
    "total=sum(li)\n",
    "print(\"Sum =\",total)"
   ]
  },
  {
   "cell_type": "markdown",
   "metadata": {},
   "source": [
    "### 02) WAP to find largest element in a List."
   ]
  },
  {
   "cell_type": "code",
   "execution_count": 13,
   "metadata": {},
   "outputs": [
    {
     "name": "stdout",
     "output_type": "stream",
     "text": [
      "Enter space separated values :10 2 30 50 \n",
      "Maximum =  50\n"
     ]
    }
   ],
   "source": [
    "n = input(\"Enter space separated values :\")\n",
    "li = [int(i) for i in n.split()]\n",
    "print(\"Maximum = \",max(li))"
   ]
  },
  {
   "cell_type": "markdown",
   "metadata": {},
   "source": [
    "### 03) WAP to find the length of a List."
   ]
  },
  {
   "cell_type": "code",
   "execution_count": 1,
   "metadata": {},
   "outputs": [
    {
     "name": "stdout",
     "output_type": "stream",
     "text": [
      "7\n"
     ]
    }
   ],
   "source": [
    "li=[2234,5464,7689,7758,45,56687,34]\n",
    "count = 0\n",
    "for i in li:\n",
    "    count += 1\n",
    "print(count)"
   ]
  },
  {
   "cell_type": "markdown",
   "metadata": {},
   "source": [
    "### 04) WAP to interchange first and last elements in a list."
   ]
  },
  {
   "cell_type": "code",
   "execution_count": 2,
   "metadata": {},
   "outputs": [
    {
     "name": "stdout",
     "output_type": "stream",
     "text": [
      "[55, 54, 65, 85, 542, 42, 189, 43]\n"
     ]
    }
   ],
   "source": [
    "li=[43,54,65,85,542,42,189,55]\n",
    "temp = li[0]\n",
    "li[0]=li[-1]\n",
    "li[-1] = temp\n",
    "print(li)"
   ]
  },
  {
   "cell_type": "markdown",
   "metadata": {},
   "source": [
    "### 05) WAP to split the List into two parts and append the first part to the end."
   ]
  },
  {
   "cell_type": "code",
   "execution_count": 14,
   "metadata": {},
   "outputs": [
    {
     "name": "stdout",
     "output_type": "stream",
     "text": [
      "Enter space separated values :10 20 30 40 \n",
      "[30, 40, 10, 20]\n"
     ]
    }
   ],
   "source": [
    "n = input(\"Enter space separated values :\")\n",
    "li = [int(i) for i in n.split()]\n",
    "midpoint = len(li)//2\n",
    "start = li[:midpoint]\n",
    "end = li[midpoint:]\n",
    "result = end+start\n",
    "print(result)"
   ]
  },
  {
   "cell_type": "markdown",
   "metadata": {},
   "source": [
    "### 06) WAP to interchange the elements on two positions entered by a user."
   ]
  },
  {
   "cell_type": "code",
   "execution_count": 11,
   "metadata": {},
   "outputs": [
    {
     "name": "stdout",
     "output_type": "stream",
     "text": [
      "Enter a No.1 2\n",
      "Enter a No.2 3\n",
      "[1, 2, 4, 3]\n"
     ]
    }
   ],
   "source": [
    "li = [1,2,3,4]\n",
    "pos1 = int(input(\"Enter a No.1 \"))\n",
    "pos2 = int(input(\"Enter a No.2 \"))\n",
    "\n",
    "li[pos2],li[pos1]=li[pos1],li[pos2]\n",
    "\n",
    "print(li)"
   ]
  },
  {
   "cell_type": "markdown",
   "metadata": {},
   "source": [
    "### 07) WAP to reverse the list entered by user."
   ]
  },
  {
   "cell_type": "code",
   "execution_count": 15,
   "metadata": {},
   "outputs": [
    {
     "name": "stdout",
     "output_type": "stream",
     "text": [
      "Enter space separated values : 10 20 30 40 60\n",
      "Reverse =  [60, 40, 30, 20, 10]\n"
     ]
    }
   ],
   "source": [
    "n = input(\"Enter space separated values : \")\n",
    "li = [int(x) for x in n.split()]\n",
    "print(\"Reverse = \",list(reversed(li)))"
   ]
  },
  {
   "cell_type": "markdown",
   "metadata": {},
   "source": [
    "### 08) WAP to print even numbers in a list."
   ]
  },
  {
   "cell_type": "code",
   "execution_count": 1,
   "metadata": {},
   "outputs": [
    {
     "name": "stdout",
     "output_type": "stream",
     "text": [
      "Enter space separated values for list :10 20 30 40 50 \n",
      "[10, 20, 30, 40, 50]\n"
     ]
    }
   ],
   "source": [
    "n = input(\"Enter space separated values for list :\")\n",
    "li = [int(i) for i in n.split() if int(i)%2==0]\n",
    "print(li)"
   ]
  },
  {
   "cell_type": "markdown",
   "metadata": {},
   "source": [
    "### 09) WAP to count unique items in a list."
   ]
  },
  {
   "cell_type": "code",
   "execution_count": 2,
   "metadata": {},
   "outputs": [
    {
     "name": "stdout",
     "output_type": "stream",
     "text": [
      "Enter space separated values for list :10 20 30 40 50\n",
      "Count = 5\n"
     ]
    }
   ],
   "source": [
    "n = input(\"Enter space separated values for list :\")\n",
    "li = [int(i) for i in n.split()]\n",
    "count = len(set(li))\n",
    "print(\"Count =\",count)"
   ]
  },
  {
   "cell_type": "markdown",
   "metadata": {},
   "source": [
    "### 10) WAP to copy a list."
   ]
  },
  {
   "cell_type": "code",
   "execution_count": 3,
   "metadata": {},
   "outputs": [
    {
     "name": "stdout",
     "output_type": "stream",
     "text": [
      "Enter space separated values for list : 10 20 30 40 50\n",
      "Copy =  ['10', '20', '30', '40', '50']\n"
     ]
    }
   ],
   "source": [
    "n = input(\"Enter space separated values for list : \")\n",
    "l1 = [i for i in n.split()]\n",
    "l2 = l1.copy()\n",
    "print(\"Copy = \",l2)"
   ]
  },
  {
   "cell_type": "markdown",
   "metadata": {},
   "source": [
    "### 11) WAP to print all odd numbers in a given range."
   ]
  },
  {
   "cell_type": "code",
   "execution_count": 4,
   "metadata": {},
   "outputs": [
    {
     "name": "stdout",
     "output_type": "stream",
     "text": [
      "Enter lower range : 1\n",
      "Enter upper range : 30\n",
      "[1, 3, 5, 7, 9, 11, 13, 15, 17, 19, 21, 23, 25, 27, 29]\n"
     ]
    }
   ],
   "source": [
    "lower = int(input(\"Enter lower range : \"))\n",
    "upper = int(input(\"Enter upper range : \"))\n",
    "li = [i for i in range(lower,upper+1) if i%2==1]\n",
    "print(li)"
   ]
  },
  {
   "cell_type": "markdown",
   "metadata": {},
   "source": [
    "### 12) WAP to count occurrences of an element in a list."
   ]
  },
  {
   "cell_type": "code",
   "execution_count": 5,
   "metadata": {},
   "outputs": [
    {
     "name": "stdout",
     "output_type": "stream",
     "text": [
      "Enter space separated values : 10 20 30 40 50 60\n",
      "Enter element that you want to count : 20\n",
      "Count of 20 =  1\n"
     ]
    }
   ],
   "source": [
    "n = input(\"Enter space separated values : \")\n",
    "li = [i for i in n.split()]\n",
    "element = input(\"Enter element that you want to count : \")\n",
    "count = li.count(element)\n",
    "print(f\"Count of {element} = \",count) "
   ]
  },
  {
   "cell_type": "markdown",
   "metadata": {},
   "source": [
    "### 13) WAP to find second largest number in a list."
   ]
  },
  {
   "cell_type": "code",
   "execution_count": 6,
   "metadata": {},
   "outputs": [
    {
     "name": "stdout",
     "output_type": "stream",
     "text": [
      "Enter space separated values : 10 20 30 40 50\n",
      "Second Maximum =  40\n"
     ]
    }
   ],
   "source": [
    "n = input(\"Enter space separated values : \")\n",
    "li = [int(i) for i in n.split()]\n",
    "if len(li)==li.count(li[0]):\n",
    "    print(\"Second Maximum not found\")\n",
    "else:\n",
    "    maximum = max(li)\n",
    "    number = 0\n",
    "    for i in li:\n",
    "        if number<i and i<maximum:\n",
    "            number=i\n",
    "    print(\"Second Maximum = \",number)"
   ]
  },
  {
   "cell_type": "markdown",
   "metadata": {},
   "source": [
    "### 14) WAP to extract elements with frequency greater than K."
   ]
  },
  {
   "cell_type": "code",
   "execution_count": 8,
   "metadata": {},
   "outputs": [
    {
     "name": "stdout",
     "output_type": "stream",
     "text": [
      "Enter space separated values :10 20 30 40 40 40 20 \n",
      "Enter value of k : 2\n",
      "['40']\n"
     ]
    }
   ],
   "source": [
    "n = input(\"Enter space separated values :\")\n",
    "li = [i for i in n.split()]\n",
    "k = int(input(\"Enter value of k : \"))\n",
    "ans = set([i for i in li if li.count(i)>k])\n",
    "print(list(ans))"
   ]
  },
  {
   "cell_type": "markdown",
   "metadata": {},
   "source": [
    "### 15) WAP to create a list of squared numbers from 0 to 9 with and without using List Comprehension."
   ]
  },
  {
   "cell_type": "code",
   "execution_count": 9,
   "metadata": {},
   "outputs": [
    {
     "name": "stdout",
     "output_type": "stream",
     "text": [
      "Without List Comprehension ['10', '20', '30', '40', '40', '40', '20']\n",
      "With list comprehension :  [0, 1, 4, 9, 16, 25, 36, 49, 64, 81]\n"
     ]
    }
   ],
   "source": [
    "l1=[]\n",
    "for i in range(0,10):\n",
    "    l1.append(i**2)\n",
    "print(\"Without List Comprehension\",li)\n",
    "#With List Comprehension\n",
    "l2 = [i**2 for i in range(0,10)]\n",
    "print(\"With list comprehension : \",l2)"
   ]
  },
  {
   "cell_type": "markdown",
   "metadata": {},
   "source": [
    "### 16) WAP to create a new list (fruit whose name starts with 'b') from the list of fruits given by user."
   ]
  },
  {
   "cell_type": "code",
   "execution_count": 12,
   "metadata": {},
   "outputs": [
    {
     "name": "stdout",
     "output_type": "stream",
     "text": [
      "Enter space separated fruits : banana apple \n",
      "['banana']\n"
     ]
    }
   ],
   "source": [
    "n = input(\"Enter space separated fruits : \")\n",
    "li = [i for i in n.split()]\n",
    "fruits = [i for i in li if i.startswith(\"b\")]\n",
    "print(fruits)"
   ]
  },
  {
   "cell_type": "markdown",
   "metadata": {},
   "source": [
    "### 17) WAP to create a list of common elements from given two lists."
   ]
  },
  {
   "cell_type": "code",
   "execution_count": 13,
   "metadata": {},
   "outputs": [
    {
     "name": "stdout",
     "output_type": "stream",
     "text": [
      "Enter space separated values : 10 20 30 40 50\n",
      "Enter space separated values : 50 60 70 80 90\n",
      "['50']\n"
     ]
    }
   ],
   "source": [
    "n1 = input(\"Enter space separated values : \")\n",
    "n2 = input(\"Enter space separated values : \")\n",
    "l1 = [i for i in n1.split()]\n",
    "l2 = [i for i in n2.split()]\n",
    "common = [x for x in l1 if x in l2]\n",
    "print(common)"
   ]
  }
 ],
 "metadata": {
  "kernelspec": {
   "display_name": "Python 3 (ipykernel)",
   "language": "python",
   "name": "python3"
  },
  "language_info": {
   "codemirror_mode": {
    "name": "ipython",
    "version": 3
   },
   "file_extension": ".py",
   "mimetype": "text/x-python",
   "name": "python",
   "nbconvert_exporter": "python",
   "pygments_lexer": "ipython3",
   "version": "3.10.9"
  }
 },
 "nbformat": 4,
 "nbformat_minor": 4
}
